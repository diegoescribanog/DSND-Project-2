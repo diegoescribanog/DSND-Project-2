{
 "cells": [
  {
   "cell_type": "markdown",
   "metadata": {},
   "source": [
    "# ML Pipeline Preparation\n",
    "Follow the instructions below to help you create your ML pipeline.\n",
    "### 1. Import libraries and load data from database.\n",
    "- Import Python libraries\n",
    "- Load dataset from database with [`read_sql_table`](https://pandas.pydata.org/pandas-docs/stable/generated/pandas.read_sql_table.html)\n",
    "- Define feature and target variables X and Y"
   ]
  },
  {
   "cell_type": "code",
   "execution_count": 53,
   "metadata": {},
   "outputs": [],
   "source": [
    "# hide warnings all-time\n",
    "import warnings\n",
    "warnings.filterwarnings('ignore')"
   ]
  },
  {
   "cell_type": "code",
   "execution_count": 54,
   "metadata": {},
   "outputs": [
    {
     "name": "stderr",
     "output_type": "stream",
     "text": [
      "[nltk_data] Downloading package punkt to\n",
      "[nltk_data]     C:\\Users\\diego\\AppData\\Roaming\\nltk_data...\n",
      "[nltk_data]   Package punkt is already up-to-date!\n",
      "[nltk_data] Downloading package stopwords to\n",
      "[nltk_data]     C:\\Users\\diego\\AppData\\Roaming\\nltk_data...\n",
      "[nltk_data]   Package stopwords is already up-to-date!\n",
      "[nltk_data] Downloading package wordnet to\n",
      "[nltk_data]     C:\\Users\\diego\\AppData\\Roaming\\nltk_data...\n",
      "[nltk_data]   Package wordnet is already up-to-date!\n",
      "[nltk_data] Downloading package averaged_perceptron_tagger to\n",
      "[nltk_data]     C:\\Users\\diego\\AppData\\Roaming\\nltk_data...\n",
      "[nltk_data]   Package averaged_perceptron_tagger is already up-to-\n",
      "[nltk_data]       date!\n"
     ]
    }
   ],
   "source": [
    "# import libraries\n",
    "\n",
    "# The fundamentals \n",
    "import pandas as pd\n",
    "import numpy as np \n",
    "\n",
    "# Load data \n",
    "from sqlalchemy import create_engine\n",
    "\n",
    "# Plot data\n",
    "import matplotlib.pyplot as plt\n",
    "import seaborn as sns\n",
    "%matplotlib inline  \n",
    "\n",
    "# Text \n",
    "import re\n",
    "import nltk\n",
    "from nltk.corpus import stopwords\n",
    "from nltk.stem.wordnet import WordNetLemmatizer\n",
    "from nltk.tokenize import word_tokenize\n",
    "nltk.download(['punkt','stopwords', 'wordnet', 'averaged_perceptron_tagger'])\n",
    "stop_words = stopwords.words(\"english\")\n",
    "lemmatizer = WordNetLemmatizer()\n",
    "\n",
    "# ML models \n",
    "from sklearn.metrics import f1_score\n",
    "from sklearn.metrics import fbeta_score\n",
    "from sklearn.metrics import confusion_matrix\n",
    "from sklearn.model_selection import GridSearchCV\n",
    "from sklearn.tree import DecisionTreeClassifier\n",
    "from sklearn.ensemble import RandomForestClassifier\n",
    "from sklearn.multioutput import MultiOutputClassifier\n",
    "from sklearn.model_selection import train_test_split\n",
    "from sklearn.metrics import classification_report\n",
    "from sklearn.metrics import accuracy_score, f1_score\n",
    "from sklearn.pipeline import Pipeline, FeatureUnion\n",
    "from sklearn.base import BaseEstimator, TransformerMixin\n",
    "from sklearn.feature_extraction.text import CountVectorizer, TfidfTransformer\n",
    "from sklearn.preprocessing import FunctionTransformer\n"
   ]
  },
  {
   "cell_type": "code",
   "execution_count": 55,
   "metadata": {},
   "outputs": [
    {
     "data": {
      "text/html": [
       "<div>\n",
       "<style scoped>\n",
       "    .dataframe tbody tr th:only-of-type {\n",
       "        vertical-align: middle;\n",
       "    }\n",
       "\n",
       "    .dataframe tbody tr th {\n",
       "        vertical-align: top;\n",
       "    }\n",
       "\n",
       "    .dataframe thead th {\n",
       "        text-align: right;\n",
       "    }\n",
       "</style>\n",
       "<table border=\"1\" class=\"dataframe\">\n",
       "  <thead>\n",
       "    <tr style=\"text-align: right;\">\n",
       "      <th></th>\n",
       "      <th>id</th>\n",
       "      <th>message</th>\n",
       "      <th>original</th>\n",
       "      <th>genre</th>\n",
       "      <th>related</th>\n",
       "      <th>request</th>\n",
       "      <th>offer</th>\n",
       "      <th>aid_related</th>\n",
       "      <th>medical_help</th>\n",
       "      <th>medical_products</th>\n",
       "      <th>...</th>\n",
       "      <th>aid_centers</th>\n",
       "      <th>other_infrastructure</th>\n",
       "      <th>weather_related</th>\n",
       "      <th>floods</th>\n",
       "      <th>storm</th>\n",
       "      <th>fire</th>\n",
       "      <th>earthquake</th>\n",
       "      <th>cold</th>\n",
       "      <th>other_weather</th>\n",
       "      <th>direct_report</th>\n",
       "    </tr>\n",
       "  </thead>\n",
       "  <tbody>\n",
       "    <tr>\n",
       "      <th>0</th>\n",
       "      <td>2</td>\n",
       "      <td>Weather update - a cold front from Cuba that c...</td>\n",
       "      <td>Un front froid se retrouve sur Cuba ce matin. ...</td>\n",
       "      <td>direct</td>\n",
       "      <td>1</td>\n",
       "      <td>0</td>\n",
       "      <td>0</td>\n",
       "      <td>0</td>\n",
       "      <td>0</td>\n",
       "      <td>0</td>\n",
       "      <td>...</td>\n",
       "      <td>0</td>\n",
       "      <td>0</td>\n",
       "      <td>0</td>\n",
       "      <td>0</td>\n",
       "      <td>0</td>\n",
       "      <td>0</td>\n",
       "      <td>0</td>\n",
       "      <td>0</td>\n",
       "      <td>0</td>\n",
       "      <td>0</td>\n",
       "    </tr>\n",
       "    <tr>\n",
       "      <th>1</th>\n",
       "      <td>7</td>\n",
       "      <td>Is the Hurricane over or is it not over</td>\n",
       "      <td>Cyclone nan fini osinon li pa fini</td>\n",
       "      <td>direct</td>\n",
       "      <td>1</td>\n",
       "      <td>0</td>\n",
       "      <td>0</td>\n",
       "      <td>1</td>\n",
       "      <td>0</td>\n",
       "      <td>0</td>\n",
       "      <td>...</td>\n",
       "      <td>0</td>\n",
       "      <td>0</td>\n",
       "      <td>1</td>\n",
       "      <td>0</td>\n",
       "      <td>1</td>\n",
       "      <td>0</td>\n",
       "      <td>0</td>\n",
       "      <td>0</td>\n",
       "      <td>0</td>\n",
       "      <td>0</td>\n",
       "    </tr>\n",
       "    <tr>\n",
       "      <th>2</th>\n",
       "      <td>8</td>\n",
       "      <td>Looking for someone but no name</td>\n",
       "      <td>Patnm, di Maryani relem pou li banm nouvel li ...</td>\n",
       "      <td>direct</td>\n",
       "      <td>1</td>\n",
       "      <td>0</td>\n",
       "      <td>0</td>\n",
       "      <td>0</td>\n",
       "      <td>0</td>\n",
       "      <td>0</td>\n",
       "      <td>...</td>\n",
       "      <td>0</td>\n",
       "      <td>0</td>\n",
       "      <td>0</td>\n",
       "      <td>0</td>\n",
       "      <td>0</td>\n",
       "      <td>0</td>\n",
       "      <td>0</td>\n",
       "      <td>0</td>\n",
       "      <td>0</td>\n",
       "      <td>0</td>\n",
       "    </tr>\n",
       "    <tr>\n",
       "      <th>3</th>\n",
       "      <td>9</td>\n",
       "      <td>UN reports Leogane 80-90 destroyed. Only Hospi...</td>\n",
       "      <td>UN reports Leogane 80-90 destroyed. Only Hospi...</td>\n",
       "      <td>direct</td>\n",
       "      <td>1</td>\n",
       "      <td>1</td>\n",
       "      <td>0</td>\n",
       "      <td>1</td>\n",
       "      <td>0</td>\n",
       "      <td>1</td>\n",
       "      <td>...</td>\n",
       "      <td>0</td>\n",
       "      <td>0</td>\n",
       "      <td>0</td>\n",
       "      <td>0</td>\n",
       "      <td>0</td>\n",
       "      <td>0</td>\n",
       "      <td>0</td>\n",
       "      <td>0</td>\n",
       "      <td>0</td>\n",
       "      <td>0</td>\n",
       "    </tr>\n",
       "    <tr>\n",
       "      <th>4</th>\n",
       "      <td>12</td>\n",
       "      <td>says: west side of Haiti, rest of the country ...</td>\n",
       "      <td>facade ouest d Haiti et le reste du pays aujou...</td>\n",
       "      <td>direct</td>\n",
       "      <td>1</td>\n",
       "      <td>0</td>\n",
       "      <td>0</td>\n",
       "      <td>0</td>\n",
       "      <td>0</td>\n",
       "      <td>0</td>\n",
       "      <td>...</td>\n",
       "      <td>0</td>\n",
       "      <td>0</td>\n",
       "      <td>0</td>\n",
       "      <td>0</td>\n",
       "      <td>0</td>\n",
       "      <td>0</td>\n",
       "      <td>0</td>\n",
       "      <td>0</td>\n",
       "      <td>0</td>\n",
       "      <td>0</td>\n",
       "    </tr>\n",
       "  </tbody>\n",
       "</table>\n",
       "<p>5 rows × 40 columns</p>\n",
       "</div>"
      ],
      "text/plain": [
       "   id                                            message  \\\n",
       "0   2  Weather update - a cold front from Cuba that c...   \n",
       "1   7            Is the Hurricane over or is it not over   \n",
       "2   8                    Looking for someone but no name   \n",
       "3   9  UN reports Leogane 80-90 destroyed. Only Hospi...   \n",
       "4  12  says: west side of Haiti, rest of the country ...   \n",
       "\n",
       "                                            original   genre  related  \\\n",
       "0  Un front froid se retrouve sur Cuba ce matin. ...  direct        1   \n",
       "1                 Cyclone nan fini osinon li pa fini  direct        1   \n",
       "2  Patnm, di Maryani relem pou li banm nouvel li ...  direct        1   \n",
       "3  UN reports Leogane 80-90 destroyed. Only Hospi...  direct        1   \n",
       "4  facade ouest d Haiti et le reste du pays aujou...  direct        1   \n",
       "\n",
       "   request  offer  aid_related  medical_help  medical_products  ...  \\\n",
       "0        0      0            0             0                 0  ...   \n",
       "1        0      0            1             0                 0  ...   \n",
       "2        0      0            0             0                 0  ...   \n",
       "3        1      0            1             0                 1  ...   \n",
       "4        0      0            0             0                 0  ...   \n",
       "\n",
       "   aid_centers  other_infrastructure  weather_related  floods  storm  fire  \\\n",
       "0            0                     0                0       0      0     0   \n",
       "1            0                     0                1       0      1     0   \n",
       "2            0                     0                0       0      0     0   \n",
       "3            0                     0                0       0      0     0   \n",
       "4            0                     0                0       0      0     0   \n",
       "\n",
       "   earthquake  cold  other_weather  direct_report  \n",
       "0           0     0              0              0  \n",
       "1           0     0              0              0  \n",
       "2           0     0              0              0  \n",
       "3           0     0              0              0  \n",
       "4           0     0              0              0  \n",
       "\n",
       "[5 rows x 40 columns]"
      ]
     },
     "execution_count": 55,
     "metadata": {},
     "output_type": "execute_result"
    }
   ],
   "source": [
    "# load data from database\n",
    "engine = create_engine('sqlite:///Project2.db')\n",
    "df = pd.read_sql(\"SELECT * FROM Message_category\", engine)\n",
    "\n",
    "df.head()"
   ]
  },
  {
   "cell_type": "code",
   "execution_count": 56,
   "metadata": {},
   "outputs": [
    {
     "data": {
      "text/plain": [
       "1    19906\n",
       "0     6122\n",
       "2      188\n",
       "Name: related, dtype: int64"
      ]
     },
     "execution_count": 56,
     "metadata": {},
     "output_type": "execute_result"
    }
   ],
   "source": [
    "df['related'].value_counts()"
   ]
  },
  {
   "cell_type": "code",
   "execution_count": 57,
   "metadata": {},
   "outputs": [],
   "source": [
    "df = df[df['related'] != 2].reset_index(drop = True)"
   ]
  },
  {
   "cell_type": "code",
   "execution_count": 58,
   "metadata": {},
   "outputs": [],
   "source": [
    "X = df['message']\n",
    "Y = df.drop(columns = {'id', 'message', 'original', 'genre'})"
   ]
  },
  {
   "cell_type": "code",
   "execution_count": 59,
   "metadata": {},
   "outputs": [
    {
     "data": {
      "text/html": [
       "<div>\n",
       "<style scoped>\n",
       "    .dataframe tbody tr th:only-of-type {\n",
       "        vertical-align: middle;\n",
       "    }\n",
       "\n",
       "    .dataframe tbody tr th {\n",
       "        vertical-align: top;\n",
       "    }\n",
       "\n",
       "    .dataframe thead th {\n",
       "        text-align: right;\n",
       "    }\n",
       "</style>\n",
       "<table border=\"1\" class=\"dataframe\">\n",
       "  <thead>\n",
       "    <tr style=\"text-align: right;\">\n",
       "      <th></th>\n",
       "      <th>related</th>\n",
       "      <th>request</th>\n",
       "      <th>offer</th>\n",
       "      <th>aid_related</th>\n",
       "      <th>medical_help</th>\n",
       "      <th>medical_products</th>\n",
       "      <th>search_and_rescue</th>\n",
       "      <th>security</th>\n",
       "      <th>military</th>\n",
       "      <th>child_alone</th>\n",
       "      <th>...</th>\n",
       "      <th>aid_centers</th>\n",
       "      <th>other_infrastructure</th>\n",
       "      <th>weather_related</th>\n",
       "      <th>floods</th>\n",
       "      <th>storm</th>\n",
       "      <th>fire</th>\n",
       "      <th>earthquake</th>\n",
       "      <th>cold</th>\n",
       "      <th>other_weather</th>\n",
       "      <th>direct_report</th>\n",
       "    </tr>\n",
       "  </thead>\n",
       "  <tbody>\n",
       "    <tr>\n",
       "      <th>count</th>\n",
       "      <td>26028.000000</td>\n",
       "      <td>26028.000000</td>\n",
       "      <td>26028.000000</td>\n",
       "      <td>26028.000000</td>\n",
       "      <td>26028.000000</td>\n",
       "      <td>26028.000000</td>\n",
       "      <td>26028.000000</td>\n",
       "      <td>26028.000000</td>\n",
       "      <td>26028.000000</td>\n",
       "      <td>26028.0</td>\n",
       "      <td>...</td>\n",
       "      <td>26028.000000</td>\n",
       "      <td>26028.000000</td>\n",
       "      <td>26028.000000</td>\n",
       "      <td>26028.000000</td>\n",
       "      <td>26028.00000</td>\n",
       "      <td>26028.000000</td>\n",
       "      <td>26028.000000</td>\n",
       "      <td>26028.000000</td>\n",
       "      <td>26028.000000</td>\n",
       "      <td>26028.000000</td>\n",
       "    </tr>\n",
       "    <tr>\n",
       "      <th>mean</th>\n",
       "      <td>0.764792</td>\n",
       "      <td>0.171892</td>\n",
       "      <td>0.004534</td>\n",
       "      <td>0.417243</td>\n",
       "      <td>0.080068</td>\n",
       "      <td>0.050446</td>\n",
       "      <td>0.027816</td>\n",
       "      <td>0.018096</td>\n",
       "      <td>0.033041</td>\n",
       "      <td>0.0</td>\n",
       "      <td>...</td>\n",
       "      <td>0.011872</td>\n",
       "      <td>0.044222</td>\n",
       "      <td>0.280352</td>\n",
       "      <td>0.082795</td>\n",
       "      <td>0.09386</td>\n",
       "      <td>0.010834</td>\n",
       "      <td>0.094321</td>\n",
       "      <td>0.020363</td>\n",
       "      <td>0.052866</td>\n",
       "      <td>0.194982</td>\n",
       "    </tr>\n",
       "    <tr>\n",
       "      <th>std</th>\n",
       "      <td>0.424137</td>\n",
       "      <td>0.377294</td>\n",
       "      <td>0.067180</td>\n",
       "      <td>0.493113</td>\n",
       "      <td>0.271403</td>\n",
       "      <td>0.218867</td>\n",
       "      <td>0.164449</td>\n",
       "      <td>0.133301</td>\n",
       "      <td>0.178748</td>\n",
       "      <td>0.0</td>\n",
       "      <td>...</td>\n",
       "      <td>0.108311</td>\n",
       "      <td>0.205591</td>\n",
       "      <td>0.449180</td>\n",
       "      <td>0.275578</td>\n",
       "      <td>0.29164</td>\n",
       "      <td>0.103525</td>\n",
       "      <td>0.292281</td>\n",
       "      <td>0.141240</td>\n",
       "      <td>0.223771</td>\n",
       "      <td>0.396195</td>\n",
       "    </tr>\n",
       "    <tr>\n",
       "      <th>min</th>\n",
       "      <td>0.000000</td>\n",
       "      <td>0.000000</td>\n",
       "      <td>0.000000</td>\n",
       "      <td>0.000000</td>\n",
       "      <td>0.000000</td>\n",
       "      <td>0.000000</td>\n",
       "      <td>0.000000</td>\n",
       "      <td>0.000000</td>\n",
       "      <td>0.000000</td>\n",
       "      <td>0.0</td>\n",
       "      <td>...</td>\n",
       "      <td>0.000000</td>\n",
       "      <td>0.000000</td>\n",
       "      <td>0.000000</td>\n",
       "      <td>0.000000</td>\n",
       "      <td>0.00000</td>\n",
       "      <td>0.000000</td>\n",
       "      <td>0.000000</td>\n",
       "      <td>0.000000</td>\n",
       "      <td>0.000000</td>\n",
       "      <td>0.000000</td>\n",
       "    </tr>\n",
       "    <tr>\n",
       "      <th>25%</th>\n",
       "      <td>1.000000</td>\n",
       "      <td>0.000000</td>\n",
       "      <td>0.000000</td>\n",
       "      <td>0.000000</td>\n",
       "      <td>0.000000</td>\n",
       "      <td>0.000000</td>\n",
       "      <td>0.000000</td>\n",
       "      <td>0.000000</td>\n",
       "      <td>0.000000</td>\n",
       "      <td>0.0</td>\n",
       "      <td>...</td>\n",
       "      <td>0.000000</td>\n",
       "      <td>0.000000</td>\n",
       "      <td>0.000000</td>\n",
       "      <td>0.000000</td>\n",
       "      <td>0.00000</td>\n",
       "      <td>0.000000</td>\n",
       "      <td>0.000000</td>\n",
       "      <td>0.000000</td>\n",
       "      <td>0.000000</td>\n",
       "      <td>0.000000</td>\n",
       "    </tr>\n",
       "    <tr>\n",
       "      <th>50%</th>\n",
       "      <td>1.000000</td>\n",
       "      <td>0.000000</td>\n",
       "      <td>0.000000</td>\n",
       "      <td>0.000000</td>\n",
       "      <td>0.000000</td>\n",
       "      <td>0.000000</td>\n",
       "      <td>0.000000</td>\n",
       "      <td>0.000000</td>\n",
       "      <td>0.000000</td>\n",
       "      <td>0.0</td>\n",
       "      <td>...</td>\n",
       "      <td>0.000000</td>\n",
       "      <td>0.000000</td>\n",
       "      <td>0.000000</td>\n",
       "      <td>0.000000</td>\n",
       "      <td>0.00000</td>\n",
       "      <td>0.000000</td>\n",
       "      <td>0.000000</td>\n",
       "      <td>0.000000</td>\n",
       "      <td>0.000000</td>\n",
       "      <td>0.000000</td>\n",
       "    </tr>\n",
       "    <tr>\n",
       "      <th>75%</th>\n",
       "      <td>1.000000</td>\n",
       "      <td>0.000000</td>\n",
       "      <td>0.000000</td>\n",
       "      <td>1.000000</td>\n",
       "      <td>0.000000</td>\n",
       "      <td>0.000000</td>\n",
       "      <td>0.000000</td>\n",
       "      <td>0.000000</td>\n",
       "      <td>0.000000</td>\n",
       "      <td>0.0</td>\n",
       "      <td>...</td>\n",
       "      <td>0.000000</td>\n",
       "      <td>0.000000</td>\n",
       "      <td>1.000000</td>\n",
       "      <td>0.000000</td>\n",
       "      <td>0.00000</td>\n",
       "      <td>0.000000</td>\n",
       "      <td>0.000000</td>\n",
       "      <td>0.000000</td>\n",
       "      <td>0.000000</td>\n",
       "      <td>0.000000</td>\n",
       "    </tr>\n",
       "    <tr>\n",
       "      <th>max</th>\n",
       "      <td>1.000000</td>\n",
       "      <td>1.000000</td>\n",
       "      <td>1.000000</td>\n",
       "      <td>1.000000</td>\n",
       "      <td>1.000000</td>\n",
       "      <td>1.000000</td>\n",
       "      <td>1.000000</td>\n",
       "      <td>1.000000</td>\n",
       "      <td>1.000000</td>\n",
       "      <td>0.0</td>\n",
       "      <td>...</td>\n",
       "      <td>1.000000</td>\n",
       "      <td>1.000000</td>\n",
       "      <td>1.000000</td>\n",
       "      <td>1.000000</td>\n",
       "      <td>1.00000</td>\n",
       "      <td>1.000000</td>\n",
       "      <td>1.000000</td>\n",
       "      <td>1.000000</td>\n",
       "      <td>1.000000</td>\n",
       "      <td>1.000000</td>\n",
       "    </tr>\n",
       "  </tbody>\n",
       "</table>\n",
       "<p>8 rows × 36 columns</p>\n",
       "</div>"
      ],
      "text/plain": [
       "            related       request         offer   aid_related  medical_help  \\\n",
       "count  26028.000000  26028.000000  26028.000000  26028.000000  26028.000000   \n",
       "mean       0.764792      0.171892      0.004534      0.417243      0.080068   \n",
       "std        0.424137      0.377294      0.067180      0.493113      0.271403   \n",
       "min        0.000000      0.000000      0.000000      0.000000      0.000000   \n",
       "25%        1.000000      0.000000      0.000000      0.000000      0.000000   \n",
       "50%        1.000000      0.000000      0.000000      0.000000      0.000000   \n",
       "75%        1.000000      0.000000      0.000000      1.000000      0.000000   \n",
       "max        1.000000      1.000000      1.000000      1.000000      1.000000   \n",
       "\n",
       "       medical_products  search_and_rescue      security      military  \\\n",
       "count      26028.000000       26028.000000  26028.000000  26028.000000   \n",
       "mean           0.050446           0.027816      0.018096      0.033041   \n",
       "std            0.218867           0.164449      0.133301      0.178748   \n",
       "min            0.000000           0.000000      0.000000      0.000000   \n",
       "25%            0.000000           0.000000      0.000000      0.000000   \n",
       "50%            0.000000           0.000000      0.000000      0.000000   \n",
       "75%            0.000000           0.000000      0.000000      0.000000   \n",
       "max            1.000000           1.000000      1.000000      1.000000   \n",
       "\n",
       "       child_alone  ...   aid_centers  other_infrastructure  weather_related  \\\n",
       "count      26028.0  ...  26028.000000          26028.000000     26028.000000   \n",
       "mean           0.0  ...      0.011872              0.044222         0.280352   \n",
       "std            0.0  ...      0.108311              0.205591         0.449180   \n",
       "min            0.0  ...      0.000000              0.000000         0.000000   \n",
       "25%            0.0  ...      0.000000              0.000000         0.000000   \n",
       "50%            0.0  ...      0.000000              0.000000         0.000000   \n",
       "75%            0.0  ...      0.000000              0.000000         1.000000   \n",
       "max            0.0  ...      1.000000              1.000000         1.000000   \n",
       "\n",
       "             floods        storm          fire    earthquake          cold  \\\n",
       "count  26028.000000  26028.00000  26028.000000  26028.000000  26028.000000   \n",
       "mean       0.082795      0.09386      0.010834      0.094321      0.020363   \n",
       "std        0.275578      0.29164      0.103525      0.292281      0.141240   \n",
       "min        0.000000      0.00000      0.000000      0.000000      0.000000   \n",
       "25%        0.000000      0.00000      0.000000      0.000000      0.000000   \n",
       "50%        0.000000      0.00000      0.000000      0.000000      0.000000   \n",
       "75%        0.000000      0.00000      0.000000      0.000000      0.000000   \n",
       "max        1.000000      1.00000      1.000000      1.000000      1.000000   \n",
       "\n",
       "       other_weather  direct_report  \n",
       "count   26028.000000   26028.000000  \n",
       "mean        0.052866       0.194982  \n",
       "std         0.223771       0.396195  \n",
       "min         0.000000       0.000000  \n",
       "25%         0.000000       0.000000  \n",
       "50%         0.000000       0.000000  \n",
       "75%         0.000000       0.000000  \n",
       "max         1.000000       1.000000  \n",
       "\n",
       "[8 rows x 36 columns]"
      ]
     },
     "execution_count": 59,
     "metadata": {},
     "output_type": "execute_result"
    }
   ],
   "source": [
    "Y.describe()"
   ]
  },
  {
   "attachments": {},
   "cell_type": "markdown",
   "metadata": {},
   "source": [
    "### 1b. Exploratory data analysis "
   ]
  },
  {
   "cell_type": "code",
   "execution_count": 60,
   "metadata": {},
   "outputs": [
    {
     "name": "stdout",
     "output_type": "stream",
     "text": [
      "Total number of messages =  26028\n",
      "Total labels =  82947\n"
     ]
    }
   ],
   "source": [
    "print(\"Total number of messages = \",len(df))\n",
    "print(\"Total labels = \",df.iloc[:,4:].sum().sum())"
   ]
  },
  {
   "cell_type": "code",
   "execution_count": 61,
   "metadata": {},
   "outputs": [
    {
     "data": {
      "text/plain": [
       "related                   19906\n",
       "aid_related               10860\n",
       "weather_related            7297\n",
       "direct_report              5075\n",
       "request                    4474\n",
       "other_aid                  3446\n",
       "food                       2923\n",
       "earthquake                 2455\n",
       "storm                      2443\n",
       "shelter                    2314\n",
       "floods                     2155\n",
       "medical_help               2084\n",
       "infrastructure_related     1705\n",
       "water                      1672\n",
       "other_weather              1376\n",
       "buildings                  1333\n",
       "medical_products           1313\n",
       "transport                  1201\n",
       "death                      1194\n",
       "other_infrastructure       1151\n",
       "refugees                    875\n",
       "military                    860\n",
       "search_and_rescue           724\n",
       "money                       604\n",
       "electricity                 532\n",
       "cold                        530\n",
       "security                    471\n",
       "clothing                    405\n",
       "aid_centers                 309\n",
       "missing_people              298\n",
       "hospitals                   283\n",
       "fire                        282\n",
       "tools                       159\n",
       "shops                       120\n",
       "offer                       118\n",
       "child_alone                   0\n",
       "dtype: int64"
      ]
     },
     "execution_count": 61,
     "metadata": {},
     "output_type": "execute_result"
    }
   ],
   "source": [
    "x=df.iloc[:,4:].sum().sort_values(ascending= False) \n",
    "x"
   ]
  },
  {
   "cell_type": "code",
   "execution_count": 62,
   "metadata": {},
   "outputs": [
    {
     "data": {
      "image/png": "[encoded data removed]",
      "text/plain": [
       "<Figure size 1500x400 with 1 Axes>"
      ]
     },
     "metadata": {},
     "output_type": "display_data"
    }
   ],
   "source": [
    "x=df.iloc[:,4:].sum().sort_values(ascending= False) [0:10]\n",
    "plt.figure(figsize=(15,4))\n",
    "ax= sns.barplot(x = x.index, y = x.values, alpha=0.8)\n",
    "plt.title(\"Class counts\")\n",
    "plt.ylabel('# of Occurrences', fontsize=12)\n",
    "plt.xlabel('Label ', fontsize=12)\n",
    "\n",
    "rects = ax.patches\n",
    "labels = x.values\n",
    "for rect, label in zip(rects, labels):\n",
    "    height = rect.get_height()\n",
    "    ax.text(rect.get_x() + rect.get_width()/2, height + 5, label, ha='center', va='bottom')\n",
    "\n",
    "plt.show()"
   ]
  },
  {
   "cell_type": "code",
   "execution_count": 63,
   "metadata": {},
   "outputs": [
    {
     "data": {
      "image/png": "[encoded data removed]",
      "text/plain": [
       "<Figure size 1500x400 with 1 Axes>"
      ]
     },
     "metadata": {},
     "output_type": "display_data"
    }
   ],
   "source": [
    "x = df.iloc[:,4:].sum(axis = 1).value_counts().sort_index()\n",
    "plt.figure(figsize=(15,4))\n",
    "ax = sns.barplot(x = x.index, y = x.values, alpha=0.8)\n",
    "plt.title(\"Multiple tags per message\")\n",
    "plt.ylabel('# of Occurrences', fontsize=12)\n",
    "plt.xlabel('# of Labels ', fontsize=12)\n",
    "\n",
    "#adding the text labels\n",
    "rects = ax.patches\n",
    "labels = x.values\n",
    "for rect, label in zip(rects, labels):\n",
    "    height = rect.get_height()\n",
    "    ax.text(rect.get_x() + rect.get_width()/2, height + 5, label, ha='center', va='bottom')\n",
    "\n",
    "plt.show()"
   ]
  },
  {
   "cell_type": "code",
   "execution_count": 64,
   "metadata": {},
   "outputs": [
    {
     "name": "stdout",
     "output_type": "stream",
     "text": [
      "The percentage of messages with no tag is: 23.52%\n"
     ]
    }
   ],
   "source": [
    "print(f'The percentage of messages with no tag is: {len(df[df.iloc[:,4:].sum(axis = 1)==0])*100/len(df):.2f}%') "
   ]
  },
  {
   "cell_type": "code",
   "execution_count": 65,
   "metadata": {},
   "outputs": [
    {
     "data": {
      "image/png": "[encoded data removed]",
      "text/plain": [
       "<Figure size 640x480 with 1 Axes>"
      ]
     },
     "metadata": {},
     "output_type": "display_data"
    }
   ],
   "source": [
    "sns.histplot(x = df['message'].str.len(), bins = np.arange(0,800,25), alpha = 0.8)\n",
    "plt.title(\"Length of the message\")\n",
    "plt.ylabel('# of Occurrences', fontsize=12)\n",
    "plt.xlabel('# of Characters ', fontsize=12)\n",
    "plt.show()"
   ]
  },
  {
   "cell_type": "markdown",
   "metadata": {},
   "source": [
    "### 2. Write a tokenization function to process your text data"
   ]
  },
  {
   "cell_type": "code",
   "execution_count": 66,
   "metadata": {},
   "outputs": [],
   "source": [
    "def tokenize(text):\n",
    "    # normalize case and remove punctuation\n",
    "    text = re.sub(r\"[^a-zA-Z0-9]\", \" \", text.lower())\n",
    "    \n",
    "    # tokenize text\n",
    "    tokens = word_tokenize(text)\n",
    "    \n",
    "    # lemmatize and remove stop words\n",
    "    tokens = [lemmatizer.lemmatize(word) for word in tokens if word not in stop_words]\n",
    "\n",
    "    return tokens"
   ]
  },
  {
   "cell_type": "markdown",
   "metadata": {},
   "source": [
    "### 3. Build a machine learning pipeline\n",
    "This machine pipeline should take in the `message` column as input and output classification results on the other 36 categories in the dataset. You may find the [MultiOutputClassifier](http://scikit-learn.org/stable/modules/generated/sklearn.multioutput.MultiOutputClassifier.html) helpful for predicting multiple target variables."
   ]
  },
  {
   "cell_type": "code",
   "execution_count": 67,
   "metadata": {},
   "outputs": [],
   "source": [
    "pipeline =Pipeline([\n",
    "                ('vect', CountVectorizer(tokenizer=tokenize)),\n",
    "                ('tfidf', TfidfTransformer()),\n",
    "                ('clf', MultiOutputClassifier(DecisionTreeClassifier())) ])"
   ]
  },
  {
   "cell_type": "markdown",
   "metadata": {},
   "source": [
    "### 4. Train pipeline\n",
    "- Split data into train and test sets\n",
    "- Train pipeline"
   ]
  },
  {
   "cell_type": "code",
   "execution_count": 68,
   "metadata": {},
   "outputs": [],
   "source": [
    "X_train, X_test, y_train, y_test = train_test_split(X, Y,test_size=0.25, random_state=42)"
   ]
  },
  {
   "cell_type": "code",
   "execution_count": 69,
   "metadata": {},
   "outputs": [
    {
     "data": {
      "text/plain": [
       "Pipeline(steps=[('vect',\n",
       "                 CountVectorizer(tokenizer=<function tokenize at 0x000001AB47F1EAF0>)),\n",
       "                ('tfidf', TfidfTransformer()),\n",
       "                ('clf',\n",
       "                 MultiOutputClassifier(estimator=DecisionTreeClassifier()))])"
      ]
     },
     "execution_count": 69,
     "metadata": {},
     "output_type": "execute_result"
    }
   ],
   "source": [
    "pipeline.fit(X_train, y_train)"
   ]
  },
  {
   "cell_type": "markdown",
   "metadata": {},
   "source": [
    "### 5. Test your model\n",
    "Report the f1 score, precision and recall for each output category of the dataset. You can do this by iterating through the columns and calling sklearn's `classification_report` on each."
   ]
  },
  {
   "cell_type": "code",
   "execution_count": 70,
   "metadata": {},
   "outputs": [],
   "source": [
    "y_pred = pipeline.predict(X_test)"
   ]
  },
  {
   "cell_type": "code",
   "execution_count": 71,
   "metadata": {},
   "outputs": [
    {
     "name": "stdout",
     "output_type": "stream",
     "text": [
      "\n",
      "                         precision    recall  f1-score   support\n",
      "\n",
      "               related       0.85      0.87      0.86      4938\n",
      "               request       0.57      0.56      0.56      1104\n",
      "                 offer       0.00      0.00      0.00        26\n",
      "           aid_related       0.66      0.64      0.65      2714\n",
      "          medical_help       0.37      0.32      0.35       542\n",
      "      medical_products       0.41      0.37      0.39       347\n",
      "     search_and_rescue       0.22      0.17      0.19       192\n",
      "              security       0.12      0.09      0.10       133\n",
      "              military       0.44      0.32      0.37       225\n",
      "           child_alone       0.00      0.00      0.00         0\n",
      "                 water       0.68      0.62      0.65       430\n",
      "                  food       0.71      0.73      0.72       731\n",
      "               shelter       0.60      0.59      0.59       598\n",
      "              clothing       0.59      0.51      0.55       101\n",
      "                 money       0.40      0.33      0.36       168\n",
      "        missing_people       0.21      0.25      0.23        68\n",
      "              refugees       0.31      0.29      0.30       208\n",
      "                 death       0.57      0.56      0.56       294\n",
      "             other_aid       0.29      0.26      0.27       834\n",
      "infrastructure_related       0.19      0.18      0.19       419\n",
      "             transport       0.27      0.28      0.28       297\n",
      "             buildings       0.48      0.42      0.45       359\n",
      "           electricity       0.40      0.37      0.39       127\n",
      "                 tools       0.08      0.07      0.08        40\n",
      "             hospitals       0.05      0.04      0.05        71\n",
      "                 shops       0.04      0.03      0.03        35\n",
      "           aid_centers       0.12      0.12      0.12        72\n",
      "  other_infrastructure       0.16      0.15      0.15       281\n",
      "       weather_related       0.72      0.76      0.74      1814\n",
      "                floods       0.61      0.63      0.62       534\n",
      "                 storm       0.66      0.66      0.66       624\n",
      "                  fire       0.36      0.36      0.36        72\n",
      "            earthquake       0.78      0.80      0.79       606\n",
      "                  cold       0.51      0.43      0.47       140\n",
      "         other_weather       0.29      0.29      0.29       330\n",
      "         direct_report       0.51      0.46      0.48      1297\n",
      "\n",
      "             micro avg       0.62      0.61      0.61     20771\n",
      "             macro avg       0.40      0.38      0.38     20771\n",
      "          weighted avg       0.61      0.61      0.61     20771\n",
      "           samples avg       0.51      0.49      0.46     20771\n",
      "\n",
      "The F1 Micro Score is: 0.61\n",
      "The F1 Macro Score is: 0.38\n",
      "The F1 Weighted Score is: 0.62\n",
      "The Hamming Loss Score is: 0.07\n"
     ]
    }
   ],
   "source": [
    "from sklearn.metrics import classification_report\n",
    "from sklearn.metrics import hamming_loss\n",
    "\n",
    "\n",
    "# Print classification report on test data\n",
    "print('\\n',classification_report(y_test.values, y_pred, target_names=y_test.columns.values))\n",
    "print(\"The F1 Micro Score is: {0:.2f}\".format(f1_score(y_pred, y_test, average='micro')))\n",
    "print(\"The F1 Macro Score is: {0:.2f}\".format(f1_score(y_pred, y_test, average='macro')))\n",
    "print(\"The F1 Weighted Score is: {0:.2f}\".format(f1_score(y_pred, y_test, average='weighted')))\n",
    "print(\"The Hamming Loss Score is: {0:.2f}\".format(hamming_loss(y_pred, y_test)))\n"
   ]
  },
  {
   "attachments": {},
   "cell_type": "markdown",
   "metadata": {},
   "source": [
    "### 6. Try improving your model further "
   ]
  },
  {
   "attachments": {},
   "cell_type": "markdown",
   "metadata": {},
   "source": [
    "We can observe that the distribution of classes between the test and train data is not consistent."
   ]
  },
  {
   "cell_type": "code",
   "execution_count": 73,
   "metadata": {},
   "outputs": [
    {
     "data": {
      "text/plain": [
       "related                   0.766764\n",
       "request                   0.172635\n",
       "offer                     0.004713\n",
       "aid_related               0.417294\n",
       "medical_help              0.078992\n",
       "medical_products          0.049485\n",
       "search_and_rescue         0.027253\n",
       "security                  0.017315\n",
       "military                  0.032529\n",
       "child_alone               0.000000\n",
       "water                     0.063624\n",
       "food                      0.112289\n",
       "shelter                   0.087905\n",
       "clothing                  0.015573\n",
       "money                     0.022335\n",
       "missing_people            0.011782\n",
       "refugees                  0.034168\n",
       "death                     0.046104\n",
       "other_aid                 0.133805\n",
       "infrastructure_related    0.065878\n",
       "transport                 0.046309\n",
       "buildings                 0.049895\n",
       "electricity               0.020747\n",
       "tools                     0.006096\n",
       "hospitals                 0.010860\n",
       "shops                     0.004354\n",
       "aid_centers               0.012141\n",
       "other_infrastructure      0.044567\n",
       "weather_related           0.280877\n",
       "floods                    0.083039\n",
       "storm                     0.093182\n",
       "fire                      0.010758\n",
       "earthquake                0.094719\n",
       "cold                      0.019978\n",
       "other_weather             0.053583\n",
       "direct_report             0.193535\n",
       "dtype: float64"
      ]
     },
     "execution_count": 73,
     "metadata": {},
     "output_type": "execute_result"
    }
   ],
   "source": [
    "y_train.sum()/len(y_train)"
   ]
  },
  {
   "cell_type": "code",
   "execution_count": 74,
   "metadata": {},
   "outputs": [
    {
     "data": {
      "text/plain": [
       "related                   0.758875\n",
       "request                   0.169663\n",
       "offer                     0.003996\n",
       "aid_related               0.417089\n",
       "medical_help              0.083295\n",
       "medical_products          0.053327\n",
       "search_and_rescue         0.029507\n",
       "security                  0.020440\n",
       "military                  0.034578\n",
       "child_alone               0.000000\n",
       "water                     0.066083\n",
       "food                      0.112341\n",
       "shelter                   0.091901\n",
       "clothing                  0.015522\n",
       "money                     0.025818\n",
       "missing_people            0.010450\n",
       "refugees                  0.031966\n",
       "death                     0.045182\n",
       "other_aid                 0.128170\n",
       "infrastructure_related    0.064392\n",
       "transport                 0.045643\n",
       "buildings                 0.055171\n",
       "electricity               0.019517\n",
       "tools                     0.006147\n",
       "hospitals                 0.010911\n",
       "shops                     0.005379\n",
       "aid_centers               0.011065\n",
       "other_infrastructure      0.043184\n",
       "weather_related           0.278777\n",
       "floods                    0.082065\n",
       "storm                     0.095897\n",
       "fire                      0.011065\n",
       "earthquake                0.093130\n",
       "cold                      0.021515\n",
       "other_weather             0.050715\n",
       "direct_report             0.199324\n",
       "dtype: float64"
      ]
     },
     "execution_count": 74,
     "metadata": {},
     "output_type": "execute_result"
    }
   ],
   "source": [
    "y_test.sum()/len(y_test)"
   ]
  },
  {
   "attachments": {},
   "cell_type": "markdown",
   "metadata": {},
   "source": [
    "Thus, we have developed the following function that ensures a balanced split of the data."
   ]
  },
  {
   "cell_type": "code",
   "execution_count": 75,
   "metadata": {},
   "outputs": [],
   "source": [
    "from iterstrat.ml_stratifiers import MultilabelStratifiedShuffleSplit\n",
    "from sklearn.utils import indexable, _safe_indexing\n",
    "from sklearn.utils.validation import _num_samples\n",
    "from sklearn.model_selection._split import _validate_shuffle_split\n",
    "from sklearn.model_selection import train_test_split\n",
    "from itertools import chain\n",
    "\n",
    "def multilabel_train_test_split(*arrays,\n",
    "                                test_size=None,\n",
    "                                train_size=None,\n",
    "                                random_state=None,\n",
    "                                shuffle=True,\n",
    "                                stratify=None):\n",
    "    \"\"\"\n",
    "    Train test split for multilabel classification. Uses the algorithm from: \n",
    "    'Sechidis K., Tsoumakas G., Vlahavas I. (2011) On the Stratification of Multi-Label Data'.\n",
    "    \"\"\"\n",
    "    if stratify is None:\n",
    "        return train_test_split(*arrays, test_size=test_size,train_size=train_size,\n",
    "                                random_state=random_state, stratify=None, shuffle=shuffle)\n",
    "    \n",
    "    assert shuffle, \"Stratified train/test split is not implemented for shuffle=False\"\n",
    "    \n",
    "    n_arrays = len(arrays)\n",
    "    arrays = indexable(*arrays)\n",
    "    n_samples = _num_samples(arrays[0])\n",
    "    n_train, n_test = _validate_shuffle_split(\n",
    "        n_samples, test_size, train_size, default_test_size=0.25\n",
    "    )\n",
    "    cv = MultilabelStratifiedShuffleSplit(test_size=n_test, train_size=n_train, random_state=123)\n",
    "    train, test = next(cv.split(X=arrays[0], y=stratify))\n",
    "\n",
    "    return list(\n",
    "        chain.from_iterable(\n",
    "            (_safe_indexing(a, train), _safe_indexing(a, test)) for a in arrays\n",
    "        )\n",
    "    )"
   ]
  },
  {
   "cell_type": "code",
   "execution_count": 81,
   "metadata": {},
   "outputs": [],
   "source": [
    "X_train, X_test, y_train, y_test = multilabel_train_test_split(X,Y, test_size=0.25, random_state= 42, stratify= Y)"
   ]
  },
  {
   "cell_type": "code",
   "execution_count": 82,
   "metadata": {},
   "outputs": [
    {
     "data": {
      "text/plain": [
       "related                   0.764817\n",
       "request                   0.171917\n",
       "offer                     0.004559\n",
       "aid_related               0.418524\n",
       "medical_help              0.080068\n",
       "medical_products          0.050458\n",
       "search_and_rescue         0.027816\n",
       "security                  0.018083\n",
       "military                  0.033041\n",
       "child_alone               0.000000\n",
       "water                     0.064239\n",
       "food                      0.112289\n",
       "shelter                   0.088930\n",
       "clothing                  0.015573\n",
       "money                     0.023206\n",
       "missing_people            0.011475\n",
       "refugees                  0.033605\n",
       "death                     0.045899\n",
       "other_aid                 0.132421\n",
       "infrastructure_related    0.065007\n",
       "transport                 0.046155\n",
       "buildings                 0.051227\n",
       "electricity               0.020440\n",
       "tools                     0.006096\n",
       "hospitals                 0.010860\n",
       "shops                     0.004610\n",
       "aid_centers               0.011885\n",
       "other_infrastructure      0.044209\n",
       "weather_related           0.281133\n",
       "floods                    0.082783\n",
       "storm                     0.093848\n",
       "fire                      0.010860\n",
       "earthquake                0.094309\n",
       "cold                      0.020388\n",
       "other_weather             0.052866\n",
       "direct_report             0.194970\n",
       "dtype: float64"
      ]
     },
     "execution_count": 82,
     "metadata": {},
     "output_type": "execute_result"
    }
   ],
   "source": [
    "y_train.sum()/len(y_train)"
   ]
  },
  {
   "cell_type": "code",
   "execution_count": 83,
   "metadata": {},
   "outputs": [
    {
     "data": {
      "text/plain": [
       "related                   0.764715\n",
       "request                   0.171815\n",
       "offer                     0.004457\n",
       "aid_related               0.413401\n",
       "medical_help              0.080068\n",
       "medical_products          0.050407\n",
       "search_and_rescue         0.027816\n",
       "security                  0.018134\n",
       "military                  0.033041\n",
       "child_alone               0.000000\n",
       "water                     0.064239\n",
       "food                      0.112341\n",
       "shelter                   0.088827\n",
       "clothing                  0.015522\n",
       "money                     0.023206\n",
       "missing_people            0.011372\n",
       "refugees                  0.033656\n",
       "death                     0.045797\n",
       "other_aid                 0.132319\n",
       "infrastructure_related    0.067005\n",
       "transport                 0.046104\n",
       "buildings                 0.051176\n",
       "electricity               0.020440\n",
       "tools                     0.006147\n",
       "hospitals                 0.010911\n",
       "shops                     0.004610\n",
       "aid_centers               0.011833\n",
       "other_infrastructure      0.044260\n",
       "weather_related           0.278008\n",
       "floods                    0.082834\n",
       "storm                     0.093899\n",
       "fire                      0.010758\n",
       "earthquake                0.094360\n",
       "cold                      0.020286\n",
       "other_weather             0.052866\n",
       "direct_report             0.195021\n",
       "dtype: float64"
      ]
     },
     "execution_count": 83,
     "metadata": {},
     "output_type": "execute_result"
    }
   ],
   "source": [
    "y_test.sum()/len(y_test)"
   ]
  },
  {
   "attachments": {},
   "cell_type": "markdown",
   "metadata": {},
   "source": [
    "The partition is now balanced, which is expected to enhance the model's performance."
   ]
  },
  {
   "attachments": {},
   "cell_type": "markdown",
   "metadata": {},
   "source": [
    "Additionally, we will use the ```gensim``` package to handle text cleaning and preprocessing tasks."
   ]
  },
  {
   "cell_type": "code",
   "execution_count": 84,
   "metadata": {},
   "outputs": [],
   "source": [
    "from gensim import utils\n",
    "import gensim.parsing.preprocessing as gsp\n",
    "\n",
    "filters = [\n",
    "           gsp.strip_tags, \n",
    "           gsp.strip_punctuation,\n",
    "           gsp.strip_multiple_whitespaces,\n",
    "           gsp.strip_numeric,\n",
    "           gsp.remove_stopwords, \n",
    "           gsp.strip_short, \n",
    "           gsp.stem_text\n",
    "          ]"
   ]
  },
  {
   "attachments": {},
   "cell_type": "markdown",
   "metadata": {},
   "source": [
    "We have defined two functions for the purpose of being integrated into a ```FunctionTransformer()``` and subsequently, used in the final ```Pipeline```."
   ]
  },
  {
   "cell_type": "code",
   "execution_count": 85,
   "metadata": {},
   "outputs": [],
   "source": [
    "def clean_text(s):\n",
    "    s = s.lower()\n",
    "    s = utils.to_unicode(s)\n",
    "    for f in filters:\n",
    "        s = f(s)\n",
    "    return s\n",
    "\n",
    "def clean_text_series(series): \n",
    "    return series.apply(clean_text)"
   ]
  },
  {
   "cell_type": "code",
   "execution_count": 86,
   "metadata": {},
   "outputs": [],
   "source": [
    "CleanTextTransformer = FunctionTransformer(clean_text_series)"
   ]
  },
  {
   "attachments": {},
   "cell_type": "markdown",
   "metadata": {},
   "source": [
    "Finally, the base classifier chosen for this task is ```XGBoost```."
   ]
  },
  {
   "cell_type": "code",
   "execution_count": 87,
   "metadata": {},
   "outputs": [],
   "source": [
    "import xgboost as xgb\n",
    "\n",
    "clf = xgb.XGBClassifier()"
   ]
  },
  {
   "attachments": {},
   "cell_type": "markdown",
   "metadata": {},
   "source": [
    "Now, we are ready to create the ```Pipeline```."
   ]
  },
  {
   "cell_type": "code",
   "execution_count": 92,
   "metadata": {},
   "outputs": [],
   "source": [
    "pipeline =Pipeline([('clean_text', CleanTextTransformer),\n",
    "                ('vect', CountVectorizer(tokenizer=tokenize)),\n",
    "                ('clf', MultiOutputClassifier(xgb.XGBClassifier())) ])"
   ]
  },
  {
   "cell_type": "code",
   "execution_count": 93,
   "metadata": {},
   "outputs": [
    {
     "data": {
      "text/plain": [
       "Pipeline(steps=[('clean_text',\n",
       "                 FunctionTransformer(func=<function clean_text_series at 0x000001AB478DE160>)),\n",
       "                ('vect',\n",
       "                 CountVectorizer(tokenizer=<function tokenize at 0x000001AB47F1EAF0>)),\n",
       "                ('clf',\n",
       "                 MultiOutputClassifier(estimator=XGBClassifier(base_score=None,\n",
       "                                                               booster=None,\n",
       "                                                               callbacks=None,\n",
       "                                                               colsample_bylevel=None,\n",
       "                                                               colsample_bynode=None,\n",
       "                                                               colsample_bytree=None,\n",
       "                                                               early_...\n",
       "                                                               grow_policy=None,\n",
       "                                                               importance_type=None,\n",
       "                                                               interaction_constraints=None,\n",
       "                                                               learning_rate=None,\n",
       "                                                               max_bin=None,\n",
       "                                                               max_cat_to_onehot=None,\n",
       "                                                               max_delta_step=None,\n",
       "                                                               max_depth=None,\n",
       "                                                               max_leaves=None,\n",
       "                                                               min_child_weight=None,\n",
       "                                                               missing=nan,\n",
       "                                                               monotone_constraints=None,\n",
       "                                                               n_estimators=100,\n",
       "                                                               n_jobs=None,\n",
       "                                                               num_parallel_tree=None,\n",
       "                                                               predictor=None,\n",
       "                                                               random_state=None,\n",
       "                                                               reg_alpha=None,\n",
       "                                                               reg_lambda=None, ...)))])"
      ]
     },
     "execution_count": 93,
     "metadata": {},
     "output_type": "execute_result"
    }
   ],
   "source": [
    "pipeline.fit(X_train, y_train)"
   ]
  },
  {
   "cell_type": "code",
   "execution_count": 94,
   "metadata": {},
   "outputs": [],
   "source": [
    "y_pred = pipeline.predict(X_test)"
   ]
  },
  {
   "cell_type": "code",
   "execution_count": 95,
   "metadata": {},
   "outputs": [
    {
     "name": "stdout",
     "output_type": "stream",
     "text": [
      "\n",
      "                         precision    recall  f1-score   support\n",
      "\n",
      "               related       0.84      0.95      0.89      4976\n",
      "               request       0.81      0.51      0.63      1118\n",
      "                 offer       0.00      0.00      0.00        29\n",
      "           aid_related       0.78      0.68      0.73      2690\n",
      "          medical_help       0.63      0.31      0.42       521\n",
      "      medical_products       0.66      0.35      0.46       328\n",
      "     search_and_rescue       0.69      0.18      0.29       181\n",
      "              security       0.33      0.03      0.06       118\n",
      "              military       0.63      0.36      0.46       215\n",
      "           child_alone       0.00      0.00      0.00         0\n",
      "                 water       0.77      0.67      0.72       418\n",
      "                  food       0.80      0.82      0.81       731\n",
      "               shelter       0.76      0.60      0.67       578\n",
      "              clothing       0.71      0.54      0.61       101\n",
      "                 money       0.65      0.28      0.40       151\n",
      "        missing_people       0.83      0.14      0.23        74\n",
      "              refugees       0.61      0.28      0.38       219\n",
      "                 death       0.73      0.51      0.60       298\n",
      "             other_aid       0.57      0.16      0.24       861\n",
      "infrastructure_related       0.38      0.08      0.14       436\n",
      "             transport       0.74      0.26      0.39       300\n",
      "             buildings       0.75      0.42      0.54       333\n",
      "           electricity       0.66      0.35      0.45       133\n",
      "                 tools       0.25      0.03      0.05        40\n",
      "             hospitals       0.45      0.13      0.20        71\n",
      "                 shops       0.00      0.00      0.00        30\n",
      "           aid_centers       0.29      0.05      0.09        77\n",
      "  other_infrastructure       0.32      0.07      0.11       288\n",
      "       weather_related       0.85      0.73      0.79      1809\n",
      "                floods       0.87      0.59      0.70       539\n",
      "                 storm       0.77      0.72      0.75       611\n",
      "                  fire       0.59      0.19      0.28        70\n",
      "            earthquake       0.87      0.81      0.84       614\n",
      "                  cold       0.62      0.42      0.50       132\n",
      "         other_weather       0.50      0.18      0.26       344\n",
      "         direct_report       0.72      0.38      0.49      1269\n",
      "\n",
      "             micro avg       0.79      0.62      0.69     20703\n",
      "             macro avg       0.60      0.36      0.42     20703\n",
      "          weighted avg       0.75      0.62      0.66     20703\n",
      "           samples avg       0.65      0.53      0.54     20703\n",
      "\n",
      "The F1 Micro Score is: 0.69\n",
      "The F1 Macro Score is: 0.42\n",
      "The F1 Weighted Score is: 0.74\n",
      "The Hamming Loss Score is: 0.05\n"
     ]
    }
   ],
   "source": [
    "print('\\n',classification_report(y_test.values, y_pred, target_names=y_test.columns.values))\n",
    "print(\"The F1 Micro Score is: {0:.2f}\".format(f1_score(y_pred, y_test, average='micro')))\n",
    "print(\"The F1 Macro Score is: {0:.2f}\".format(f1_score(y_pred, y_test, average='macro')))\n",
    "print(\"The F1 Weighted Score is: {0:.2f}\".format(f1_score(y_pred, y_test, average='weighted')))\n",
    "print(\"The Hamming Loss Score is: {0:.2f}\".format(hamming_loss(y_pred, y_test)))"
   ]
  },
  {
   "attachments": {},
   "cell_type": "markdown",
   "metadata": {},
   "source": [
    "The ```XGBoost``` algorithm is efficient and its predictions are more accurate. However, we can further improve the results by utilizing ```GridSearch``` to optimize the classifier's parameters."
   ]
  },
  {
   "cell_type": "markdown",
   "metadata": {},
   "source": [
    "### 6. Improve your model\n",
    "Use grid search to find better parameters. "
   ]
  },
  {
   "cell_type": "code",
   "execution_count": 109,
   "metadata": {},
   "outputs": [
    {
     "data": {
      "text/plain": [
       "<bound method Pipeline.get_params of Pipeline(steps=[('clean_text',\n",
       "                 FunctionTransformer(func=<function clean_text_series at 0x000001AB478DE160>)),\n",
       "                ('vect',\n",
       "                 CountVectorizer(tokenizer=<function tokenize at 0x000001AB47F1EAF0>)),\n",
       "                ('clf',\n",
       "                 MultiOutputClassifier(estimator=XGBClassifier(base_score=None,\n",
       "                                                               booster=None,\n",
       "                                                               callbacks=None,\n",
       "                                                               colsample_bylevel=None,\n",
       "                                                               colsample_bynode=None,\n",
       "                                                               colsample_bytree=None,\n",
       "                                                               early_...\n",
       "                                                               grow_policy=None,\n",
       "                                                               importance_type=None,\n",
       "                                                               interaction_constraints=None,\n",
       "                                                               learning_rate=None,\n",
       "                                                               max_bin=None,\n",
       "                                                               max_cat_to_onehot=None,\n",
       "                                                               max_delta_step=None,\n",
       "                                                               max_depth=None,\n",
       "                                                               max_leaves=None,\n",
       "                                                               min_child_weight=None,\n",
       "                                                               missing=nan,\n",
       "                                                               monotone_constraints=None,\n",
       "                                                               n_estimators=100,\n",
       "                                                               n_jobs=None,\n",
       "                                                               num_parallel_tree=None,\n",
       "                                                               predictor=None,\n",
       "                                                               random_state=None,\n",
       "                                                               reg_alpha=None,\n",
       "                                                               reg_lambda=None, ...)))])>"
      ]
     },
     "execution_count": 109,
     "metadata": {},
     "output_type": "execute_result"
    }
   ],
   "source": [
    "pipeline.get_params"
   ]
  },
  {
   "cell_type": "code",
   "execution_count": 111,
   "metadata": {},
   "outputs": [],
   "source": [
    "from sklearn.model_selection import GridSearchCV\n",
    "\n",
    "parameters = {\n",
    "    'clf__estimator__max_depth': range (2, 10, 1),\n",
    "    'clf__estimator__n_estimators': range(60, 220, 40),\n",
    "    'clf__estimator__learning_rate': [0.1, 0.01, 0.05]\n",
    "}\n",
    "\n",
    "grid_search = GridSearchCV(pipeline, param_grid=parameters, n_jobs = -1, cv = 10)"
   ]
  },
  {
   "cell_type": "code",
   "execution_count": 112,
   "metadata": {},
   "outputs": [
    {
     "data": {
      "text/plain": [
       "GridSearchCV(cv=10,\n",
       "             estimator=Pipeline(steps=[('clean_text',\n",
       "                                        FunctionTransformer(func=<function clean_text_series at 0x000001AB478DE160>)),\n",
       "                                       ('vect',\n",
       "                                        CountVectorizer(tokenizer=<function tokenize at 0x000001AB47F1EAF0>)),\n",
       "                                       ('clf',\n",
       "                                        MultiOutputClassifier(estimator=XGBClassifier(base_score=None,\n",
       "                                                                                      booster=None,\n",
       "                                                                                      callbacks=None,\n",
       "                                                                                      colsample_bylevel=None,\n",
       "                                                                                      colsample_bynode=None...\n",
       "                                                                                      max_leaves=None,\n",
       "                                                                                      min_child_weight=None,\n",
       "                                                                                      missing=nan,\n",
       "                                                                                      monotone_constraints=None,\n",
       "                                                                                      n_estimators=100,\n",
       "                                                                                      n_jobs=None,\n",
       "                                                                                      num_parallel_tree=None,\n",
       "                                                                                      predictor=None,\n",
       "                                                                                      random_state=None,\n",
       "                                                                                      reg_alpha=None,\n",
       "                                                                                      reg_lambda=None, ...)))]),\n",
       "             n_jobs=-1,\n",
       "             param_grid={'clf__estimator__learning_rate': [0.1, 0.01, 0.05],\n",
       "                         'clf__estimator__max_depth': range(2, 10),\n",
       "                         'clf__estimator__n_estimators': range(60, 220, 40)})"
      ]
     },
     "execution_count": 112,
     "metadata": {},
     "output_type": "execute_result"
    }
   ],
   "source": [
    "grid_search.fit(X_train, y_train)\n"
   ]
  },
  {
   "cell_type": "code",
   "execution_count": 113,
   "metadata": {},
   "outputs": [
    {
     "data": {
      "text/plain": [
       "{'clf__estimator__learning_rate': 0.1,\n",
       " 'clf__estimator__max_depth': 9,\n",
       " 'clf__estimator__n_estimators': 180}"
      ]
     },
     "execution_count": 113,
     "metadata": {},
     "output_type": "execute_result"
    }
   ],
   "source": [
    "grid_search.best_params_"
   ]
  },
  {
   "cell_type": "code",
   "execution_count": 114,
   "metadata": {},
   "outputs": [],
   "source": [
    "model = grid_search.best_estimator_"
   ]
  },
  {
   "attachments": {},
   "cell_type": "markdown",
   "metadata": {},
   "source": [
    "### 7. Test your model"
   ]
  },
  {
   "cell_type": "code",
   "execution_count": 115,
   "metadata": {},
   "outputs": [],
   "source": [
    "y_pred = model.predict(X_test)"
   ]
  },
  {
   "cell_type": "code",
   "execution_count": 116,
   "metadata": {},
   "outputs": [
    {
     "name": "stdout",
     "output_type": "stream",
     "text": [
      "\n",
      "                         precision    recall  f1-score   support\n",
      "\n",
      "               related       0.84      0.96      0.89      4976\n",
      "               request       0.80      0.51      0.62      1118\n",
      "                 offer       0.00      0.00      0.00        29\n",
      "           aid_related       0.78      0.67      0.72      2690\n",
      "          medical_help       0.63      0.30      0.40       521\n",
      "      medical_products       0.67      0.34      0.45       328\n",
      "     search_and_rescue       0.69      0.19      0.30       181\n",
      "              security       0.31      0.03      0.06       118\n",
      "              military       0.61      0.35      0.45       215\n",
      "           child_alone       0.00      0.00      0.00         0\n",
      "                 water       0.79      0.68      0.73       418\n",
      "                  food       0.80      0.83      0.82       731\n",
      "               shelter       0.76      0.61      0.67       578\n",
      "              clothing       0.70      0.54      0.61       101\n",
      "                 money       0.64      0.31      0.42       151\n",
      "        missing_people       0.85      0.15      0.25        74\n",
      "              refugees       0.61      0.28      0.38       219\n",
      "                 death       0.70      0.48      0.57       298\n",
      "             other_aid       0.60      0.15      0.25       861\n",
      "infrastructure_related       0.39      0.08      0.13       436\n",
      "             transport       0.78      0.25      0.38       300\n",
      "             buildings       0.74      0.43      0.54       333\n",
      "           electricity       0.68      0.33      0.44       133\n",
      "                 tools       0.33      0.03      0.05        40\n",
      "             hospitals       0.39      0.10      0.16        71\n",
      "                 shops       0.00      0.00      0.00        30\n",
      "           aid_centers       0.31      0.06      0.11        77\n",
      "  other_infrastructure       0.30      0.06      0.09       288\n",
      "       weather_related       0.85      0.73      0.78      1809\n",
      "                floods       0.87      0.59      0.70       539\n",
      "                 storm       0.77      0.71      0.74       611\n",
      "                  fire       0.61      0.20      0.30        70\n",
      "            earthquake       0.87      0.81      0.84       614\n",
      "                  cold       0.57      0.39      0.46       132\n",
      "         other_weather       0.49      0.18      0.26       344\n",
      "         direct_report       0.72      0.38      0.50      1269\n",
      "\n",
      "             micro avg       0.79      0.61      0.69     20703\n",
      "             macro avg       0.60      0.35      0.42     20703\n",
      "          weighted avg       0.75      0.61      0.65     20703\n",
      "           samples avg       0.65      0.53      0.54     20703\n",
      "\n",
      "The F1 Micro Score is: 0.69\n",
      "The F1 Macro Score is: 0.42\n",
      "The F1 Weighted Score is: 0.74\n",
      "The Hamming Loss Score is: 0.05\n"
     ]
    }
   ],
   "source": [
    "print('\\n',classification_report(y_test.values, y_pred, target_names=y_test.columns.values))\n",
    "print(\"The F1 Micro Score is: {0:.2f}\".format(f1_score(y_pred, y_test, average='micro')))\n",
    "print(\"The F1 Macro Score is: {0:.2f}\".format(f1_score(y_pred, y_test, average='macro')))\n",
    "print(\"The F1 Weighted Score is: {0:.2f}\".format(f1_score(y_pred, y_test, average='weighted')))\n",
    "print(\"The Hamming Loss Score is: {0:.2f}\".format(hamming_loss(y_pred, y_test)))"
   ]
  },
  {
   "attachments": {},
   "cell_type": "markdown",
   "metadata": {},
   "source": [
    "### 8. Export your model as a pickle file"
   ]
  },
  {
   "cell_type": "code",
   "execution_count": 119,
   "metadata": {},
   "outputs": [
    {
     "data": {
      "text/plain": [
       "['model_classifier.pkl']"
      ]
     },
     "execution_count": 119,
     "metadata": {},
     "output_type": "execute_result"
    }
   ],
   "source": [
    "import joblib\n",
    "joblib.dump(model, 'model_classifier.pkl')"
   ]
  },
  {
   "attachments": {},
   "cell_type": "markdown",
   "metadata": {},
   "source": [
    "### 9. Use this notebook to complete `train.py`\n",
    "Use the template file attached in the Resources folder to write a script that runs the steps above to create a database and export a model based on a new dataset specified by the user."
   ]
  }
 ],
 "metadata": {
  "kernelspec": {
   "display_name": "base",
   "language": "python",
   "name": "python3"
  },
  "language_info": {
   "codemirror_mode": {
    "name": "ipython",
    "version": 3
   },
   "file_extension": ".py",
   "mimetype": "text/x-python",
   "name": "python",
   "nbconvert_exporter": "python",
   "pygments_lexer": "ipython3",
   "version": "3.9.15 (main, Nov 24 2022, 14:39:17) [MSC v.1916 64 bit (AMD64)]"
  },
  "vscode": {
   "interpreter": {
    "hash": "465bc43bf4cbae58c142e3527ff2b05702dd810bc8ebc4f627e0af6c067b87a4"
   }
  }
 },
 "nbformat": 4,
 "nbformat_minor": 2
}
